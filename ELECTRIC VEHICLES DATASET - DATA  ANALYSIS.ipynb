{
 "cells": [
  {
   "cell_type": "markdown",
   "id": "9a066a8f",
   "metadata": {},
   "source": [
    "# ELECTRIC VEHICLES DATASET - DATA  ANALYSIS"
   ]
  },
  {
   "cell_type": "markdown",
   "id": "4bea8c40",
   "metadata": {},
   "source": [
    "Perform Data Cleaning and Data Analysis of the Electric Vehicles Dataset to find the relationship between the columns in the dataset and visualize the same using matplotlib and seaborn.\n",
    "\n",
    "DATASET SOURCE: https://www.kaggle.com/datasets/geoffnel/evs-one-electric-vehicle-dataset"
   ]
  },
  {
   "cell_type": "markdown",
   "id": "b9452670",
   "metadata": {},
   "source": [
    "The data contains information on Electric vehicles and its resepctive specifications"
   ]
  },
  {
   "attachments": {
    "image-2.png": {
     "image/png": "[encoded data removed]"
    }
   },
   "cell_type": "markdown",
   "id": "a0b6d8e9",
   "metadata": {},
   "source": [
    "![image-2.png](attachment:image-2.png)"
   ]
  },
  {
   "cell_type": "code",
   "execution_count": 48,
   "id": "5a1b978d",
   "metadata": {},
   "outputs": [],
   "source": [
    "#import libraries\n",
    "import numpy as np\n",
    "import pandas as pd\n",
    "import matplotlib.pyplot as plt\n",
    "import seaborn as sns"
   ]
  },
  {
   "cell_type": "code",
   "execution_count": 49,
   "id": "199926be",
   "metadata": {},
   "outputs": [
    {
     "data": {
      "text/html": [
       "<div>\n",
       "<style scoped>\n",
       "    .dataframe tbody tr th:only-of-type {\n",
       "        vertical-align: middle;\n",
       "    }\n",
       "\n",
       "    .dataframe tbody tr th {\n",
       "        vertical-align: top;\n",
       "    }\n",
       "\n",
       "    .dataframe thead th {\n",
       "        text-align: right;\n",
       "    }\n",
       "</style>\n",
       "<table border=\"1\" class=\"dataframe\">\n",
       "  <thead>\n",
       "    <tr style=\"text-align: right;\">\n",
       "      <th></th>\n",
       "      <th>Brand</th>\n",
       "      <th>Model</th>\n",
       "      <th>AccelSec</th>\n",
       "      <th>TopSpeed_KmH</th>\n",
       "      <th>Range_Km</th>\n",
       "      <th>Efficiency_WhKm</th>\n",
       "      <th>FastCharge_KmH</th>\n",
       "      <th>RapidCharge</th>\n",
       "      <th>PowerTrain</th>\n",
       "      <th>PlugType</th>\n",
       "      <th>BodyStyle</th>\n",
       "      <th>Segment</th>\n",
       "      <th>Seats</th>\n",
       "      <th>PriceEuro</th>\n",
       "    </tr>\n",
       "  </thead>\n",
       "  <tbody>\n",
       "    <tr>\n",
       "      <th>0</th>\n",
       "      <td>Tesla</td>\n",
       "      <td>Model 3 Long Range Dual Motor</td>\n",
       "      <td>4.6</td>\n",
       "      <td>233</td>\n",
       "      <td>450</td>\n",
       "      <td>161</td>\n",
       "      <td>940</td>\n",
       "      <td>Yes</td>\n",
       "      <td>AWD</td>\n",
       "      <td>Type 2 CCS</td>\n",
       "      <td>Sedan</td>\n",
       "      <td>D</td>\n",
       "      <td>5</td>\n",
       "      <td>55480</td>\n",
       "    </tr>\n",
       "    <tr>\n",
       "      <th>1</th>\n",
       "      <td>Volkswagen</td>\n",
       "      <td>ID.3 Pure</td>\n",
       "      <td>10.0</td>\n",
       "      <td>160</td>\n",
       "      <td>270</td>\n",
       "      <td>167</td>\n",
       "      <td>250</td>\n",
       "      <td>Yes</td>\n",
       "      <td>RWD</td>\n",
       "      <td>Type 2 CCS</td>\n",
       "      <td>Hatchback</td>\n",
       "      <td>C</td>\n",
       "      <td>5</td>\n",
       "      <td>30000</td>\n",
       "    </tr>\n",
       "    <tr>\n",
       "      <th>2</th>\n",
       "      <td>Polestar</td>\n",
       "      <td>2</td>\n",
       "      <td>4.7</td>\n",
       "      <td>210</td>\n",
       "      <td>400</td>\n",
       "      <td>181</td>\n",
       "      <td>620</td>\n",
       "      <td>Yes</td>\n",
       "      <td>AWD</td>\n",
       "      <td>Type 2 CCS</td>\n",
       "      <td>Liftback</td>\n",
       "      <td>D</td>\n",
       "      <td>5</td>\n",
       "      <td>56440</td>\n",
       "    </tr>\n",
       "    <tr>\n",
       "      <th>3</th>\n",
       "      <td>BMW</td>\n",
       "      <td>iX3</td>\n",
       "      <td>6.8</td>\n",
       "      <td>180</td>\n",
       "      <td>360</td>\n",
       "      <td>206</td>\n",
       "      <td>560</td>\n",
       "      <td>Yes</td>\n",
       "      <td>RWD</td>\n",
       "      <td>Type 2 CCS</td>\n",
       "      <td>SUV</td>\n",
       "      <td>D</td>\n",
       "      <td>5</td>\n",
       "      <td>68040</td>\n",
       "    </tr>\n",
       "    <tr>\n",
       "      <th>4</th>\n",
       "      <td>Honda</td>\n",
       "      <td>e</td>\n",
       "      <td>9.5</td>\n",
       "      <td>145</td>\n",
       "      <td>170</td>\n",
       "      <td>168</td>\n",
       "      <td>190</td>\n",
       "      <td>Yes</td>\n",
       "      <td>RWD</td>\n",
       "      <td>Type 2 CCS</td>\n",
       "      <td>Hatchback</td>\n",
       "      <td>B</td>\n",
       "      <td>4</td>\n",
       "      <td>32997</td>\n",
       "    </tr>\n",
       "    <tr>\n",
       "      <th>5</th>\n",
       "      <td>Lucid</td>\n",
       "      <td>Air</td>\n",
       "      <td>2.8</td>\n",
       "      <td>250</td>\n",
       "      <td>610</td>\n",
       "      <td>180</td>\n",
       "      <td>620</td>\n",
       "      <td>Yes</td>\n",
       "      <td>AWD</td>\n",
       "      <td>Type 2 CCS</td>\n",
       "      <td>Sedan</td>\n",
       "      <td>F</td>\n",
       "      <td>5</td>\n",
       "      <td>105000</td>\n",
       "    </tr>\n",
       "    <tr>\n",
       "      <th>6</th>\n",
       "      <td>Volkswagen</td>\n",
       "      <td>e-Golf</td>\n",
       "      <td>9.6</td>\n",
       "      <td>150</td>\n",
       "      <td>190</td>\n",
       "      <td>168</td>\n",
       "      <td>220</td>\n",
       "      <td>Yes</td>\n",
       "      <td>FWD</td>\n",
       "      <td>Type 2 CCS</td>\n",
       "      <td>Hatchback</td>\n",
       "      <td>C</td>\n",
       "      <td>5</td>\n",
       "      <td>31900</td>\n",
       "    </tr>\n",
       "  </tbody>\n",
       "</table>\n",
       "</div>"
      ],
      "text/plain": [
       "         Brand                          Model  AccelSec  TopSpeed_KmH  \\\n",
       "0       Tesla   Model 3 Long Range Dual Motor       4.6           233   \n",
       "1  Volkswagen                       ID.3 Pure      10.0           160   \n",
       "2    Polestar                               2       4.7           210   \n",
       "3         BMW                            iX3        6.8           180   \n",
       "4       Honda                              e        9.5           145   \n",
       "5       Lucid                            Air        2.8           250   \n",
       "6  Volkswagen                         e-Golf        9.6           150   \n",
       "\n",
       "   Range_Km  Efficiency_WhKm FastCharge_KmH RapidCharge PowerTrain  \\\n",
       "0       450              161            940         Yes        AWD   \n",
       "1       270              167            250         Yes        RWD   \n",
       "2       400              181            620         Yes        AWD   \n",
       "3       360              206            560         Yes        RWD   \n",
       "4       170              168            190         Yes        RWD   \n",
       "5       610              180            620         Yes        AWD   \n",
       "6       190              168            220         Yes        FWD   \n",
       "\n",
       "     PlugType  BodyStyle Segment  Seats  PriceEuro  \n",
       "0  Type 2 CCS      Sedan       D      5      55480  \n",
       "1  Type 2 CCS  Hatchback       C      5      30000  \n",
       "2  Type 2 CCS   Liftback       D      5      56440  \n",
       "3  Type 2 CCS        SUV       D      5      68040  \n",
       "4  Type 2 CCS  Hatchback       B      4      32997  \n",
       "5  Type 2 CCS      Sedan       F      5     105000  \n",
       "6  Type 2 CCS  Hatchback       C      5      31900  "
      ]
     },
     "execution_count": 49,
     "metadata": {},
     "output_type": "execute_result"
    }
   ],
   "source": [
    "#import dataset\n",
    "df = pd.read_csv('ElectricCarData_Clean.csv')\n",
    "#display dataset\n",
    "df.head(7)"
   ]
  },
  {
   "cell_type": "code",
   "execution_count": 50,
   "id": "06e1b8fd",
   "metadata": {},
   "outputs": [
    {
     "data": {
      "text/plain": [
       "14"
      ]
     },
     "execution_count": 50,
     "metadata": {},
     "output_type": "execute_result"
    }
   ],
   "source": [
    "#display the total number of columns and the column names found in the dataset\n",
    "len(df.columns)"
   ]
  },
  {
   "cell_type": "code",
   "execution_count": 51,
   "id": "4ce49738",
   "metadata": {},
   "outputs": [
    {
     "data": {
      "text/plain": [
       "Index(['Brand', 'Model', 'AccelSec', 'TopSpeed_KmH', 'Range_Km',\n",
       "       'Efficiency_WhKm', 'FastCharge_KmH', 'RapidCharge', 'PowerTrain',\n",
       "       'PlugType', 'BodyStyle', 'Segment', 'Seats', 'PriceEuro'],\n",
       "      dtype='object')"
      ]
     },
     "execution_count": 51,
     "metadata": {},
     "output_type": "execute_result"
    }
   ],
   "source": [
    "df.columns"
   ]
  },
  {
   "cell_type": "code",
   "execution_count": 52,
   "id": "f4b8f5bb",
   "metadata": {},
   "outputs": [
    {
     "data": {
      "text/plain": [
       "103"
      ]
     },
     "execution_count": 52,
     "metadata": {},
     "output_type": "execute_result"
    }
   ],
   "source": [
    "#display total number of records in the dataset\n",
    "records = len(df)\n",
    "records"
   ]
  },
  {
   "cell_type": "markdown",
   "id": "50a81854",
   "metadata": {},
   "source": [
    "### Data Cleaning"
   ]
  },
  {
   "cell_type": "code",
   "execution_count": 53,
   "id": "fcaaa039",
   "metadata": {},
   "outputs": [
    {
     "data": {
      "text/plain": [
       "Brand              0\n",
       "Model              0\n",
       "AccelSec           0\n",
       "TopSpeed_KmH       0\n",
       "Range_Km           0\n",
       "Efficiency_WhKm    0\n",
       "FastCharge_KmH     0\n",
       "RapidCharge        0\n",
       "PowerTrain         0\n",
       "PlugType           0\n",
       "BodyStyle          0\n",
       "Segment            0\n",
       "Seats              0\n",
       "PriceEuro          0\n",
       "dtype: int64"
      ]
     },
     "execution_count": 53,
     "metadata": {},
     "output_type": "execute_result"
    }
   ],
   "source": [
    "#count number of NaN and Inf values in each column\n",
    "df.isna().sum()"
   ]
  },
  {
   "cell_type": "code",
   "execution_count": 54,
   "id": "b057eb26",
   "metadata": {},
   "outputs": [
    {
     "data": {
      "text/plain": [
       "Brand              0\n",
       "Model              0\n",
       "AccelSec           0\n",
       "TopSpeed_KmH       0\n",
       "Range_Km           0\n",
       "Efficiency_WhKm    0\n",
       "FastCharge_KmH     0\n",
       "RapidCharge        0\n",
       "PowerTrain         0\n",
       "PlugType           0\n",
       "BodyStyle          0\n",
       "Segment            0\n",
       "Seats              0\n",
       "PriceEuro          0\n",
       "dtype: int64"
      ]
     },
     "execution_count": 54,
     "metadata": {},
     "output_type": "execute_result"
    }
   ],
   "source": [
    "df[df == np.inf].count()"
   ]
  },
  {
   "cell_type": "code",
   "execution_count": 55,
   "id": "dc9ff0b3",
   "metadata": {},
   "outputs": [
    {
     "data": {
      "text/html": [
       "<div>\n",
       "<style scoped>\n",
       "    .dataframe tbody tr th:only-of-type {\n",
       "        vertical-align: middle;\n",
       "    }\n",
       "\n",
       "    .dataframe tbody tr th {\n",
       "        vertical-align: top;\n",
       "    }\n",
       "\n",
       "    .dataframe thead th {\n",
       "        text-align: right;\n",
       "    }\n",
       "</style>\n",
       "<table border=\"1\" class=\"dataframe\">\n",
       "  <thead>\n",
       "    <tr style=\"text-align: right;\">\n",
       "      <th></th>\n",
       "      <th>Brand</th>\n",
       "      <th>Model</th>\n",
       "      <th>AccelSec</th>\n",
       "      <th>TopSpeed_KmH</th>\n",
       "      <th>Range_Km</th>\n",
       "      <th>Efficiency_WhKm</th>\n",
       "      <th>FastCharge_KmH</th>\n",
       "      <th>RapidCharge</th>\n",
       "      <th>PowerTrain</th>\n",
       "      <th>PlugType</th>\n",
       "      <th>BodyStyle</th>\n",
       "      <th>Segment</th>\n",
       "      <th>Seats</th>\n",
       "      <th>PriceEuro</th>\n",
       "    </tr>\n",
       "  </thead>\n",
       "  <tbody>\n",
       "    <tr>\n",
       "      <th>0</th>\n",
       "      <td>Tesla</td>\n",
       "      <td>Model 3 Long Range Dual Motor</td>\n",
       "      <td>4.6</td>\n",
       "      <td>233</td>\n",
       "      <td>450</td>\n",
       "      <td>161</td>\n",
       "      <td>940</td>\n",
       "      <td>Yes</td>\n",
       "      <td>AWD</td>\n",
       "      <td>Type 2 CCS</td>\n",
       "      <td>Sedan</td>\n",
       "      <td>D</td>\n",
       "      <td>5</td>\n",
       "      <td>55480</td>\n",
       "    </tr>\n",
       "    <tr>\n",
       "      <th>1</th>\n",
       "      <td>Volkswagen</td>\n",
       "      <td>ID.3 Pure</td>\n",
       "      <td>10.0</td>\n",
       "      <td>160</td>\n",
       "      <td>270</td>\n",
       "      <td>167</td>\n",
       "      <td>250</td>\n",
       "      <td>Yes</td>\n",
       "      <td>RWD</td>\n",
       "      <td>Type 2 CCS</td>\n",
       "      <td>Hatchback</td>\n",
       "      <td>C</td>\n",
       "      <td>5</td>\n",
       "      <td>30000</td>\n",
       "    </tr>\n",
       "    <tr>\n",
       "      <th>2</th>\n",
       "      <td>Polestar</td>\n",
       "      <td>2</td>\n",
       "      <td>4.7</td>\n",
       "      <td>210</td>\n",
       "      <td>400</td>\n",
       "      <td>181</td>\n",
       "      <td>620</td>\n",
       "      <td>Yes</td>\n",
       "      <td>AWD</td>\n",
       "      <td>Type 2 CCS</td>\n",
       "      <td>Liftback</td>\n",
       "      <td>D</td>\n",
       "      <td>5</td>\n",
       "      <td>56440</td>\n",
       "    </tr>\n",
       "    <tr>\n",
       "      <th>3</th>\n",
       "      <td>BMW</td>\n",
       "      <td>iX3</td>\n",
       "      <td>6.8</td>\n",
       "      <td>180</td>\n",
       "      <td>360</td>\n",
       "      <td>206</td>\n",
       "      <td>560</td>\n",
       "      <td>Yes</td>\n",
       "      <td>RWD</td>\n",
       "      <td>Type 2 CCS</td>\n",
       "      <td>SUV</td>\n",
       "      <td>D</td>\n",
       "      <td>5</td>\n",
       "      <td>68040</td>\n",
       "    </tr>\n",
       "    <tr>\n",
       "      <th>4</th>\n",
       "      <td>Honda</td>\n",
       "      <td>e</td>\n",
       "      <td>9.5</td>\n",
       "      <td>145</td>\n",
       "      <td>170</td>\n",
       "      <td>168</td>\n",
       "      <td>190</td>\n",
       "      <td>Yes</td>\n",
       "      <td>RWD</td>\n",
       "      <td>Type 2 CCS</td>\n",
       "      <td>Hatchback</td>\n",
       "      <td>B</td>\n",
       "      <td>4</td>\n",
       "      <td>32997</td>\n",
       "    </tr>\n",
       "    <tr>\n",
       "      <th>...</th>\n",
       "      <td>...</td>\n",
       "      <td>...</td>\n",
       "      <td>...</td>\n",
       "      <td>...</td>\n",
       "      <td>...</td>\n",
       "      <td>...</td>\n",
       "      <td>...</td>\n",
       "      <td>...</td>\n",
       "      <td>...</td>\n",
       "      <td>...</td>\n",
       "      <td>...</td>\n",
       "      <td>...</td>\n",
       "      <td>...</td>\n",
       "      <td>...</td>\n",
       "    </tr>\n",
       "    <tr>\n",
       "      <th>98</th>\n",
       "      <td>Nissan</td>\n",
       "      <td>Ariya 63kWh</td>\n",
       "      <td>7.5</td>\n",
       "      <td>160</td>\n",
       "      <td>330</td>\n",
       "      <td>191</td>\n",
       "      <td>440</td>\n",
       "      <td>Yes</td>\n",
       "      <td>FWD</td>\n",
       "      <td>Type 2 CCS</td>\n",
       "      <td>Hatchback</td>\n",
       "      <td>C</td>\n",
       "      <td>5</td>\n",
       "      <td>45000</td>\n",
       "    </tr>\n",
       "    <tr>\n",
       "      <th>99</th>\n",
       "      <td>Audi</td>\n",
       "      <td>e-tron S Sportback 55 quattro</td>\n",
       "      <td>4.5</td>\n",
       "      <td>210</td>\n",
       "      <td>335</td>\n",
       "      <td>258</td>\n",
       "      <td>540</td>\n",
       "      <td>Yes</td>\n",
       "      <td>AWD</td>\n",
       "      <td>Type 2 CCS</td>\n",
       "      <td>SUV</td>\n",
       "      <td>E</td>\n",
       "      <td>5</td>\n",
       "      <td>96050</td>\n",
       "    </tr>\n",
       "    <tr>\n",
       "      <th>100</th>\n",
       "      <td>Nissan</td>\n",
       "      <td>Ariya e-4ORCE 63kWh</td>\n",
       "      <td>5.9</td>\n",
       "      <td>200</td>\n",
       "      <td>325</td>\n",
       "      <td>194</td>\n",
       "      <td>440</td>\n",
       "      <td>Yes</td>\n",
       "      <td>AWD</td>\n",
       "      <td>Type 2 CCS</td>\n",
       "      <td>Hatchback</td>\n",
       "      <td>C</td>\n",
       "      <td>5</td>\n",
       "      <td>50000</td>\n",
       "    </tr>\n",
       "    <tr>\n",
       "      <th>101</th>\n",
       "      <td>Nissan</td>\n",
       "      <td>Ariya e-4ORCE 87kWh Performance</td>\n",
       "      <td>5.1</td>\n",
       "      <td>200</td>\n",
       "      <td>375</td>\n",
       "      <td>232</td>\n",
       "      <td>450</td>\n",
       "      <td>Yes</td>\n",
       "      <td>AWD</td>\n",
       "      <td>Type 2 CCS</td>\n",
       "      <td>Hatchback</td>\n",
       "      <td>C</td>\n",
       "      <td>5</td>\n",
       "      <td>65000</td>\n",
       "    </tr>\n",
       "    <tr>\n",
       "      <th>102</th>\n",
       "      <td>Byton</td>\n",
       "      <td>M-Byte 95 kWh 2WD</td>\n",
       "      <td>7.5</td>\n",
       "      <td>190</td>\n",
       "      <td>400</td>\n",
       "      <td>238</td>\n",
       "      <td>480</td>\n",
       "      <td>Yes</td>\n",
       "      <td>AWD</td>\n",
       "      <td>Type 2 CCS</td>\n",
       "      <td>SUV</td>\n",
       "      <td>E</td>\n",
       "      <td>5</td>\n",
       "      <td>62000</td>\n",
       "    </tr>\n",
       "  </tbody>\n",
       "</table>\n",
       "<p>98 rows × 14 columns</p>\n",
       "</div>"
      ],
      "text/plain": [
       "           Brand                            Model  AccelSec  TopSpeed_KmH  \\\n",
       "0         Tesla     Model 3 Long Range Dual Motor       4.6           233   \n",
       "1    Volkswagen                         ID.3 Pure      10.0           160   \n",
       "2      Polestar                                 2       4.7           210   \n",
       "3           BMW                              iX3        6.8           180   \n",
       "4         Honda                                e        9.5           145   \n",
       "..           ...                              ...       ...           ...   \n",
       "98       Nissan                       Ariya 63kWh       7.5           160   \n",
       "99         Audi     e-tron S Sportback 55 quattro       4.5           210   \n",
       "100      Nissan               Ariya e-4ORCE 63kWh       5.9           200   \n",
       "101      Nissan   Ariya e-4ORCE 87kWh Performance       5.1           200   \n",
       "102       Byton                 M-Byte 95 kWh 2WD       7.5           190   \n",
       "\n",
       "     Range_Km  Efficiency_WhKm FastCharge_KmH RapidCharge PowerTrain  \\\n",
       "0         450              161            940         Yes        AWD   \n",
       "1         270              167            250         Yes        RWD   \n",
       "2         400              181            620         Yes        AWD   \n",
       "3         360              206            560         Yes        RWD   \n",
       "4         170              168            190         Yes        RWD   \n",
       "..        ...              ...            ...         ...        ...   \n",
       "98        330              191            440         Yes        FWD   \n",
       "99        335              258            540         Yes        AWD   \n",
       "100       325              194            440         Yes        AWD   \n",
       "101       375              232            450         Yes        AWD   \n",
       "102       400              238            480         Yes        AWD   \n",
       "\n",
       "       PlugType  BodyStyle Segment  Seats  PriceEuro  \n",
       "0    Type 2 CCS      Sedan       D      5      55480  \n",
       "1    Type 2 CCS  Hatchback       C      5      30000  \n",
       "2    Type 2 CCS   Liftback       D      5      56440  \n",
       "3    Type 2 CCS        SUV       D      5      68040  \n",
       "4    Type 2 CCS  Hatchback       B      4      32997  \n",
       "..          ...        ...     ...    ...        ...  \n",
       "98   Type 2 CCS  Hatchback       C      5      45000  \n",
       "99   Type 2 CCS        SUV       E      5      96050  \n",
       "100  Type 2 CCS  Hatchback       C      5      50000  \n",
       "101  Type 2 CCS  Hatchback       C      5      65000  \n",
       "102  Type 2 CCS        SUV       E      5      62000  \n",
       "\n",
       "[98 rows x 14 columns]"
      ]
     },
     "execution_count": 55,
     "metadata": {},
     "output_type": "execute_result"
    }
   ],
   "source": [
    "#remove blank values from the FastCharge_KmH column\n",
    "df = df[df.FastCharge_KmH !='-']\n",
    "df"
   ]
  },
  {
   "cell_type": "code",
   "execution_count": null,
   "id": "672b144f",
   "metadata": {},
   "outputs": [],
   "source": []
  },
  {
   "cell_type": "markdown",
   "id": "8be4df95",
   "metadata": {},
   "source": [
    "### Display total number of vehicles avaiable for each Body Style"
   ]
  },
  {
   "cell_type": "code",
   "execution_count": 56,
   "id": "35a05868",
   "metadata": {},
   "outputs": [
    {
     "data": {
      "text/html": [
       "<div>\n",
       "<style scoped>\n",
       "    .dataframe tbody tr th:only-of-type {\n",
       "        vertical-align: middle;\n",
       "    }\n",
       "\n",
       "    .dataframe tbody tr th {\n",
       "        vertical-align: top;\n",
       "    }\n",
       "\n",
       "    .dataframe thead th {\n",
       "        text-align: right;\n",
       "    }\n",
       "</style>\n",
       "<table border=\"1\" class=\"dataframe\">\n",
       "  <thead>\n",
       "    <tr style=\"text-align: right;\">\n",
       "      <th></th>\n",
       "      <th>BodyStyle</th>\n",
       "    </tr>\n",
       "  </thead>\n",
       "  <tbody>\n",
       "    <tr>\n",
       "      <th>SUV</th>\n",
       "      <td>45</td>\n",
       "    </tr>\n",
       "    <tr>\n",
       "      <th>Hatchback</th>\n",
       "      <td>29</td>\n",
       "    </tr>\n",
       "    <tr>\n",
       "      <th>Sedan</th>\n",
       "      <td>10</td>\n",
       "    </tr>\n",
       "    <tr>\n",
       "      <th>Liftback</th>\n",
       "      <td>5</td>\n",
       "    </tr>\n",
       "    <tr>\n",
       "      <th>Pickup</th>\n",
       "      <td>3</td>\n",
       "    </tr>\n",
       "    <tr>\n",
       "      <th>SPV</th>\n",
       "      <td>2</td>\n",
       "    </tr>\n",
       "    <tr>\n",
       "      <th>Cabrio</th>\n",
       "      <td>2</td>\n",
       "    </tr>\n",
       "    <tr>\n",
       "      <th>Station</th>\n",
       "      <td>1</td>\n",
       "    </tr>\n",
       "    <tr>\n",
       "      <th>MPV</th>\n",
       "      <td>1</td>\n",
       "    </tr>\n",
       "  </tbody>\n",
       "</table>\n",
       "</div>"
      ],
      "text/plain": [
       "           BodyStyle\n",
       "SUV               45\n",
       "Hatchback         29\n",
       "Sedan             10\n",
       "Liftback           5\n",
       "Pickup             3\n",
       "SPV                2\n",
       "Cabrio             2\n",
       "Station            1\n",
       "MPV                1"
      ]
     },
     "execution_count": 56,
     "metadata": {},
     "output_type": "execute_result"
    }
   ],
   "source": [
    "df1 = pd.DataFrame(df['BodyStyle'].value_counts())\n",
    "df1"
   ]
  },
  {
   "cell_type": "markdown",
   "id": "5a46f54e",
   "metadata": {},
   "source": [
    "Majority of the vehicles have SUV Body Style while the Body Style with least number of vehicles are MPV and Station"
   ]
  },
  {
   "cell_type": "code",
   "execution_count": null,
   "id": "08142aa7",
   "metadata": {},
   "outputs": [],
   "source": []
  },
  {
   "cell_type": "markdown",
   "id": "fc4d5327",
   "metadata": {},
   "source": [
    "### Display a pie chart to find the powertrain type used the most by electric car companies"
   ]
  },
  {
   "cell_type": "code",
   "execution_count": 57,
   "id": "073b83fa",
   "metadata": {},
   "outputs": [
    {
     "name": "stdout",
     "output_type": "stream",
     "text": [
      "AWD    41\n",
      "FWD    36\n",
      "RWD    21\n",
      "Name: PowerTrain, dtype: int64\n"
     ]
    },
    {
     "data": {
      "image/png": "[encoded data removed]",
      "text/plain": [
       "<Figure size 720x720 with 1 Axes>"
      ]
     },
     "metadata": {},
     "output_type": "display_data"
    }
   ],
   "source": [
    "#create figure for graph\n",
    "fig1 = plt.figure(figsize = (10, 10))\n",
    "#count number of occurences for each label\n",
    "vals = df['PowerTrain'].value_counts()\n",
    "print(vals)\n",
    "#create a list of labels to display on pie chart\n",
    "label = vals.index\n",
    "#create pie chart\n",
    "plt.pie(vals,labels=label, autopct='%.3f%%',\n",
    "        shadow=False, startangle=90)\n",
    "plt.legend(title = \"POWERTRAIN TYPES:\")\n",
    "plt.show()"
   ]
  },
  {
   "cell_type": "markdown",
   "id": "25a9ee16",
   "metadata": {},
   "source": [
    "The Powertrain type used by vehicle companies the most is AWD"
   ]
  },
  {
   "cell_type": "code",
   "execution_count": null,
   "id": "70c0bcc0",
   "metadata": {},
   "outputs": [],
   "source": []
  },
  {
   "cell_type": "markdown",
   "id": "ab66b6a8",
   "metadata": {},
   "source": [
    "### Find out whether Range_Km and PriceEuro are correlated using scatter plot"
   ]
  },
  {
   "cell_type": "code",
   "execution_count": 58,
   "id": "519d9c6d",
   "metadata": {},
   "outputs": [
    {
     "data": {
      "image/png": "[encoded data removed]",
      "text/plain": [
       "<Figure size 720x504 with 1 Axes>"
      ]
     },
     "metadata": {},
     "output_type": "display_data"
    }
   ],
   "source": [
    "#create figure for plotting\n",
    "fig2 = plt.figure(figsize = (10, 7))\n",
    "\n",
    "x2 = df['Range_Km']\n",
    "y2 = df['PriceEuro']\n",
    "\n",
    "#create scatter plot\n",
    "plt.scatter(x2,y2,color = 'green')\n",
    "#display labels for the graph\n",
    "plt.xlabel(\"Range_Km\")\n",
    "plt.ylabel(\"PriceEuro\")\n",
    "plt.title(\"Range_Km vs PriceEuro\")\n",
    "\n",
    "plt.show()"
   ]
  },
  {
   "cell_type": "markdown",
   "id": "393a8bab",
   "metadata": {},
   "source": [
    "The above plot shows that there is a positive correaltion between the two column values"
   ]
  },
  {
   "cell_type": "code",
   "execution_count": null,
   "id": "f589e0ac",
   "metadata": {},
   "outputs": [],
   "source": []
  },
  {
   "cell_type": "markdown",
   "id": "7fc3c407",
   "metadata": {},
   "source": [
    "### Display brand and model of vehicles without Rapid Charge"
   ]
  },
  {
   "cell_type": "code",
   "execution_count": 59,
   "id": "bd2265e6",
   "metadata": {},
   "outputs": [
    {
     "data": {
      "text/html": [
       "<div>\n",
       "<style scoped>\n",
       "    .dataframe tbody tr th:only-of-type {\n",
       "        vertical-align: middle;\n",
       "    }\n",
       "\n",
       "    .dataframe tbody tr th {\n",
       "        vertical-align: top;\n",
       "    }\n",
       "\n",
       "    .dataframe thead th {\n",
       "        text-align: right;\n",
       "    }\n",
       "</style>\n",
       "<table border=\"1\" class=\"dataframe\">\n",
       "  <thead>\n",
       "    <tr style=\"text-align: right;\">\n",
       "      <th></th>\n",
       "      <th>Brand</th>\n",
       "      <th>Model</th>\n",
       "      <th>RapidCharge</th>\n",
       "    </tr>\n",
       "  </thead>\n",
       "  <tbody>\n",
       "  </tbody>\n",
       "</table>\n",
       "</div>"
      ],
      "text/plain": [
       "Empty DataFrame\n",
       "Columns: [Brand, Model, RapidCharge]\n",
       "Index: []"
      ]
     },
     "execution_count": 59,
     "metadata": {},
     "output_type": "execute_result"
    }
   ],
   "source": [
    "#run a query to display the result\n",
    "df3 = pd.DataFrame(df.query('RapidCharge == \"No\"')[['Brand','Model','RapidCharge']])\n",
    "df3"
   ]
  },
  {
   "cell_type": "code",
   "execution_count": 60,
   "id": "3660fa14",
   "metadata": {},
   "outputs": [
    {
     "data": {
      "text/plain": [
       "Yes    98\n",
       "Name: RapidCharge, dtype: int64"
      ]
     },
     "execution_count": 60,
     "metadata": {},
     "output_type": "execute_result"
    }
   ],
   "source": [
    "#for verification\n",
    "df['RapidCharge'].value_counts()"
   ]
  },
  {
   "cell_type": "code",
   "execution_count": null,
   "id": "eb4998b6",
   "metadata": {},
   "outputs": [],
   "source": []
  },
  {
   "cell_type": "markdown",
   "id": "13fc9185",
   "metadata": {},
   "source": [
    "### Display brand and model of the vehicle with highest value in FastCharge_KmH column"
   ]
  },
  {
   "cell_type": "code",
   "execution_count": 61,
   "id": "64812417",
   "metadata": {},
   "outputs": [],
   "source": [
    "df4=df[df.FastCharge_KmH == df.FastCharge_KmH.max()][['Brand','Model','FastCharge_KmH']]\n",
    "df5=df[df.FastCharge_KmH == df.FastCharge_KmH.min()][['Brand','Model','FastCharge_KmH']]"
   ]
  },
  {
   "cell_type": "code",
   "execution_count": 62,
   "id": "516f026b",
   "metadata": {},
   "outputs": [
    {
     "name": "stdout",
     "output_type": "stream",
     "text": [
      "Vehicle with Highest Fast Charge KmH:\n"
     ]
    },
    {
     "data": {
      "text/html": [
       "<div>\n",
       "<style scoped>\n",
       "    .dataframe tbody tr th:only-of-type {\n",
       "        vertical-align: middle;\n",
       "    }\n",
       "\n",
       "    .dataframe tbody tr th {\n",
       "        vertical-align: top;\n",
       "    }\n",
       "\n",
       "    .dataframe thead th {\n",
       "        text-align: right;\n",
       "    }\n",
       "</style>\n",
       "<table border=\"1\" class=\"dataframe\">\n",
       "  <thead>\n",
       "    <tr style=\"text-align: right;\">\n",
       "      <th></th>\n",
       "      <th>Brand</th>\n",
       "      <th>Model</th>\n",
       "      <th>FastCharge_KmH</th>\n",
       "    </tr>\n",
       "  </thead>\n",
       "  <tbody>\n",
       "    <tr>\n",
       "      <th>0</th>\n",
       "      <td>Tesla</td>\n",
       "      <td>Model 3 Long Range Dual Motor</td>\n",
       "      <td>940</td>\n",
       "    </tr>\n",
       "  </tbody>\n",
       "</table>\n",
       "</div>"
      ],
      "text/plain": [
       "    Brand                          Model FastCharge_KmH\n",
       "0  Tesla   Model 3 Long Range Dual Motor            940"
      ]
     },
     "execution_count": 62,
     "metadata": {},
     "output_type": "execute_result"
    }
   ],
   "source": [
    "print(\"Vehicle with Highest Fast Charge KmH:\")\n",
    "df4"
   ]
  },
  {
   "cell_type": "code",
   "execution_count": 63,
   "id": "e1e1f149",
   "metadata": {},
   "outputs": [
    {
     "name": "stdout",
     "output_type": "stream",
     "text": [
      "Vehicle with Lowest Fast Charge KmH:\n"
     ]
    },
    {
     "data": {
      "text/html": [
       "<div>\n",
       "<style scoped>\n",
       "    .dataframe tbody tr th:only-of-type {\n",
       "        vertical-align: middle;\n",
       "    }\n",
       "\n",
       "    .dataframe tbody tr th {\n",
       "        vertical-align: top;\n",
       "    }\n",
       "\n",
       "    .dataframe thead th {\n",
       "        text-align: right;\n",
       "    }\n",
       "</style>\n",
       "<table border=\"1\" class=\"dataframe\">\n",
       "  <thead>\n",
       "    <tr style=\"text-align: right;\">\n",
       "      <th></th>\n",
       "      <th>Brand</th>\n",
       "      <th>Model</th>\n",
       "      <th>FastCharge_KmH</th>\n",
       "    </tr>\n",
       "  </thead>\n",
       "  <tbody>\n",
       "    <tr>\n",
       "      <th>17</th>\n",
       "      <td>Volkswagen</td>\n",
       "      <td>e-Up!</td>\n",
       "      <td>170</td>\n",
       "    </tr>\n",
       "    <tr>\n",
       "      <th>43</th>\n",
       "      <td>Skoda</td>\n",
       "      <td>CITIGOe iV</td>\n",
       "      <td>170</td>\n",
       "    </tr>\n",
       "    <tr>\n",
       "      <th>44</th>\n",
       "      <td>SEAT</td>\n",
       "      <td>Mii Electric</td>\n",
       "      <td>170</td>\n",
       "    </tr>\n",
       "  </tbody>\n",
       "</table>\n",
       "</div>"
      ],
      "text/plain": [
       "          Brand          Model FastCharge_KmH\n",
       "17  Volkswagen          e-Up!             170\n",
       "43       Skoda     CITIGOe iV             170\n",
       "44        SEAT   Mii Electric             170"
      ]
     },
     "execution_count": 63,
     "metadata": {},
     "output_type": "execute_result"
    }
   ],
   "source": [
    "print(\"Vehicle with Lowest Fast Charge KmH:\")\n",
    "df5"
   ]
  },
  {
   "cell_type": "code",
   "execution_count": null,
   "id": "98535851",
   "metadata": {},
   "outputs": [],
   "source": []
  },
  {
   "cell_type": "markdown",
   "id": "5bb25e21",
   "metadata": {},
   "source": [
    "### Display number of models released by each vehicle brand and find the brand with most number of models using bar graph"
   ]
  },
  {
   "cell_type": "code",
   "execution_count": 64,
   "id": "e32ee974",
   "metadata": {},
   "outputs": [
    {
     "data": {
      "text/plain": [
       "<BarContainer object of 32 artists>"
      ]
     },
     "execution_count": 64,
     "metadata": {},
     "output_type": "execute_result"
    },
    {
     "data": {
      "image/png": "[encoded data removed]",
      "text/plain": [
       "<Figure size 2160x720 with 1 Axes>"
      ]
     },
     "metadata": {},
     "output_type": "display_data"
    }
   ],
   "source": [
    "fig6 = plt.figure(figsize=(30,10))\n",
    "x6 = df['Brand'].value_counts()\n",
    "#display the bar graph\n",
    "plt.bar(x6.index,x6,color='orange')"
   ]
  },
  {
   "cell_type": "markdown",
   "id": "1e4fe196",
   "metadata": {},
   "source": [
    "Telsa has the most number of models according to the above graph"
   ]
  },
  {
   "cell_type": "code",
   "execution_count": null,
   "id": "354be6f6",
   "metadata": {},
   "outputs": [],
   "source": []
  },
  {
   "cell_type": "markdown",
   "id": "4a50a355",
   "metadata": {},
   "source": [
    "### Visualize the dataset columns Range_Km and Brand to find the brand with highest and lowest Range_Km"
   ]
  },
  {
   "cell_type": "code",
   "execution_count": 65,
   "id": "7ed944d6",
   "metadata": {},
   "outputs": [
    {
     "data": {
      "text/plain": [
       "<BarContainer object of 98 artists>"
      ]
     },
     "execution_count": 65,
     "metadata": {},
     "output_type": "execute_result"
    },
    {
     "data": {
      "image/png": "[encoded data removed]",
      "text/plain": [
       "<Figure size 720x720 with 1 Axes>"
      ]
     },
     "metadata": {},
     "output_type": "display_data"
    }
   ],
   "source": [
    "fig7 = plt.figure(figsize=(10,10))\n",
    "x=df['Range_Km']\n",
    "y=df['Brand']\n",
    "#plot a horizontal bar graph\n",
    "plt.barh(y,x,color='purple')"
   ]
  },
  {
   "cell_type": "markdown",
   "id": "9233ed21",
   "metadata": {},
   "source": [
    "Telsa has the highest Range_Km value while Honda has the lowest Range_Km value"
   ]
  },
  {
   "cell_type": "code",
   "execution_count": null,
   "id": "b6b66363",
   "metadata": {},
   "outputs": [],
   "source": []
  },
  {
   "cell_type": "markdown",
   "id": "e8909af0",
   "metadata": {},
   "source": [
    "### Analyse the columns PlugType and PriceEuro using Swarmplot from Seaborn Library"
   ]
  },
  {
   "cell_type": "code",
   "execution_count": 66,
   "id": "69188a27",
   "metadata": {},
   "outputs": [
    {
     "name": "stderr",
     "output_type": "stream",
     "text": [
      "C:\\Users\\Aishwarya Menon\\anaconda3\\lib\\site-packages\\seaborn\\_decorators.py:36: FutureWarning: Pass the following variables as keyword args: x, y. From version 0.12, the only valid positional argument will be `data`, and passing other arguments without an explicit keyword will result in an error or misinterpretation.\n",
      "  warnings.warn(\n",
      "C:\\Users\\Aishwarya Menon\\anaconda3\\lib\\site-packages\\seaborn\\categorical.py:1296: UserWarning: 11.1% of the points cannot be placed; you may want to decrease the size of the markers or use stripplot.\n",
      "  warnings.warn(msg, UserWarning)\n"
     ]
    },
    {
     "data": {
      "text/plain": [
       "Text(0.5, 1.0, 'PriceEuro vs PlugType')"
      ]
     },
     "execution_count": 66,
     "metadata": {},
     "output_type": "execute_result"
    },
    {
     "data": {
      "image/png": "[encoded data removed]",
      "text/plain": [
       "<Figure size 648x504 with 1 Axes>"
      ]
     },
     "metadata": {},
     "output_type": "display_data"
    }
   ],
   "source": [
    "fig8 = plt.figure(figsize=(9,7))\n",
    "x=df['PriceEuro']\n",
    "y=df['PlugType']\n",
    "#plot a swarmplot\n",
    "sns.swarmplot(x,y,data=df,size = 9)\n",
    "plt.title('PriceEuro vs PlugType')"
   ]
  },
  {
   "cell_type": "markdown",
   "id": "73d068a8",
   "metadata": {},
   "source": [
    "The above swarmplot shows that majority of the vehicles have the PlugType called Type 2 CCS. \n",
    "The vehicles with Type 2 CCS Plug are found to have its Price Range over a large scale compared to the vehciles with other plugtypes being restricted to a smaller price range.\n",
    "Type 2 CCs PlugType vehicles have vehicles with the least price and the highest price."
   ]
  },
  {
   "cell_type": "code",
   "execution_count": null,
   "id": "5e876ee8",
   "metadata": {},
   "outputs": [],
   "source": []
  },
  {
   "cell_type": "markdown",
   "id": "f340a4d6",
   "metadata": {},
   "source": [
    "### Find out the average number of seats offered by all vehicle brands"
   ]
  },
  {
   "cell_type": "code",
   "execution_count": 67,
   "id": "511e4f71",
   "metadata": {},
   "outputs": [
    {
     "data": {
      "image/png": "[encoded data removed]",
      "text/plain": [
       "<Figure size 720x720 with 1 Axes>"
      ]
     },
     "metadata": {},
     "output_type": "display_data"
    }
   ],
   "source": [
    "fig8 = plt.figure(figsize=(10,10))\n",
    "#plot a violin plot\n",
    "plt1 = sns.violinplot(x=df[\"Seats\"],color='limegreen')\n",
    "plt.show()"
   ]
  },
  {
   "cell_type": "code",
   "execution_count": null,
   "id": "9b318c5d",
   "metadata": {},
   "outputs": [],
   "source": []
  },
  {
   "cell_type": "markdown",
   "id": "3a31077f",
   "metadata": {},
   "source": [
    "### Find the vehicle Segment with the highest Efficiency_WhKm"
   ]
  },
  {
   "cell_type": "code",
   "execution_count": 68,
   "id": "14e8a867",
   "metadata": {},
   "outputs": [
    {
     "data": {
      "text/plain": [
       "<AxesSubplot:xlabel='Efficiency_WhKm', ylabel='Segment'>"
      ]
     },
     "execution_count": 68,
     "metadata": {},
     "output_type": "execute_result"
    },
    {
     "data": {
      "image/png": "[encoded data removed]",
      "text/plain": [
       "<Figure size 720x720 with 1 Axes>"
      ]
     },
     "metadata": {},
     "output_type": "display_data"
    }
   ],
   "source": [
    "fig9 = plt.figure(figsize=(10,10))\n",
    "#plot a barplot using seaborn\n",
    "sns.barplot(data=df, x=df[\"Efficiency_WhKm\"], y=df[\"Segment\"])"
   ]
  },
  {
   "cell_type": "markdown",
   "id": "495600cf",
   "metadata": {},
   "source": [
    "The vehicles belonging to the Segment N have the best/highest Efficiency_WhKm value"
   ]
  },
  {
   "cell_type": "code",
   "execution_count": null,
   "id": "95fdd8fa",
   "metadata": {},
   "outputs": [],
   "source": []
  }
 ],
 "metadata": {
  "kernelspec": {
   "display_name": "Python 3",
   "language": "python",
   "name": "python3"
  },
  "language_info": {
   "codemirror_mode": {
    "name": "ipython",
    "version": 3
   },
   "file_extension": ".py",
   "mimetype": "text/x-python",
   "name": "python",
   "nbconvert_exporter": "python",
   "pygments_lexer": "ipython3",
   "version": "3.8.8"
  }
 },
 "nbformat": 4,
 "nbformat_minor": 5
}
